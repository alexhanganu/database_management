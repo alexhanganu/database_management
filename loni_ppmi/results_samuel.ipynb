{
 "cells": [
  {
   "cell_type": "code",
   "execution_count": 2,
   "metadata": {},
   "outputs": [],
   "source": [
    "import os\n",
    "import pandas as pd\n",
    "path_main = [p for p in (os.environ['HOME'],'C:/Users/samue',\n",
    "                         'J:', os.path.expanduser('~')) if os.path.exists(p)][0] + '/Dropbox'\n",
    "\n",
    "file = path_main+'/lab/databases/ppmi/ppmi_database_2019_05_22.xlsx' #variable créée à retirer si ça ne fonctionne pas\n",
    "sheet_BL = 'PPMI_Baseline_Data_02Jul2018'\n",
    "sheet_gds = 'behav_depresssion_GDS_short' #variable créée à retirer si ça ne fonctionne pas\n",
    "sheet_moca = 'cog_MOCA' #variable créée à retirer si ça ne fonctionne pas\n",
    "\n",
    "#df pour 1 mesure de NPS et 1 mesure de performance cognitive\n",
    "df_bl = pd.read_excel(file, sheet_BL)\n",
    "df_gds = pd.read_excel(file, sheet_gds)\n",
    "df_moca = pd.read_excel(file, sheet_moca)"
   ]
  },
  {
   "cell_type": "code",
   "execution_count": 9,
   "metadata": {},
   "outputs": [
    {
     "name": "stdout",
     "output_type": "stream",
     "text": [
      "baseline db has 619 unique participants out of 619 recordings\n",
      "gds db has 1593 unique participants out of 7568 recordings\n",
      "moca db has 2154 unique participants out of 6985 recordings\n"
     ]
    }
   ],
   "source": [
    "#Trier le df pour retirer APPRDX = 3 (SWEDD)\n",
    "APPRDX_index = df_bl[df_bl['APPRDX'] == 3].index\n",
    "df_bl.drop(APPRDX_index, inplace = True)\n",
    "\n",
    "def get_nr_participants(col):\n",
    "    ls_patno = list()\n",
    "    for val in col:\n",
    "        if val not in ls_patno: ls_patno.append(val)\n",
    "    return ls_patno\n",
    "\n",
    "print('baseline db has {} unique participants out of {} recordings'.format(len(get_nr_participants(df_bl.PATNO)), len(df_bl.PATNO)))\n",
    "print('gds db has {} unique participants out of {} recordings'.format(len(get_nr_participants(df_gds.PATNO)), len(df_gds.PATNO)))\n",
    "print('moca db has {} unique participants out of {} recordings'.format(len(get_nr_participants(df_moca.PATNO)), len(df_moca.PATNO)))"
   ]
  },
  {
   "cell_type": "code",
   "execution_count": 24,
   "metadata": {},
   "outputs": [],
   "source": [
    "# Extracting the data only for the participants from the BL database\n",
    "\n",
    "ls_participants = df_bl.PATNO.tolist()\n",
    "d = {}\n",
    "for i in ls_participants:\n",
    "    d[i] = 0\n",
    "\n",
    "for val in df_gds.PATNO:\n",
    "    if val in d:\n",
    "        d[val] +=1"
   ]
  },
  {
   "cell_type": "code",
   "execution_count": null,
   "metadata": {},
   "outputs": [],
   "source": [
    "# the d dictionary shows that gds file has multiple entries for each participant from the PATNO file.\n",
    "# first, all participants with all their time points must be extracted from the gds file\n",
    "\n",
    "# after that extract all participants from the moca file\n",
    "\n",
    "# after find the participants that have the gds and the moce for the same time point\n",
    "# and extract only those time points\n",
    "\n",
    "# that would be the cross-sectional database\n",
    "\n"
   ]
  },
  {
   "cell_type": "code",
   "execution_count": null,
   "metadata": {},
   "outputs": [],
   "source": [
    "d_gds = {k: list(v) for k,v in df_gds.groupby('PATNO')['EVENT_ID']}\n",
    "d_moca = {k: list(v) for k,v in df_moca.groupby('PATNO')['EVENT_ID']}\n"
   ]
  },
  {
   "cell_type": "code",
   "execution_count": null,
   "metadata": {},
   "outputs": [],
   "source": [
    "## TEST ##\n",
    "\n",
    "ls_both_test = list()\n",
    "k = 3000\n",
    "i = 0\n",
    "for i in range(0,len(d_moca[k])):\n",
    "    if d_moca[k][i] in d_gds[k]:\n",
    "        ls_both_test.append(d_moca[k][i])\n",
    "    i += 1\n",
    "d_both_test = {k: ls_both_test}\n",
    "d_both_test"
   ]
  },
  {
   "cell_type": "code",
   "execution_count": null,
   "metadata": {},
   "outputs": [],
   "source": [
    "# VERSION Samuel, 2020-04-01, ajustée Alex, 2020-04-01\n",
    "\n",
    "# after find the participants that have the gds and the moca for the same time point\n",
    "# and extract only those time points\n",
    "d_tp = dict()\n",
    "for i in range(10):\n",
    "    time_point = \"V0\"+str(i)\n",
    "\n",
    "    n = 0\n",
    "    for k in ls_participants:\n",
    "        if k in d_moca and k in d_gds:\n",
    "            if time_point in d_moca[k] and time_point in d_gds[k]:\n",
    "                date_gds = df_gds.loc[(df_gds.PATNO == k) & (df_gds['EVENT_ID'] == time_point), 'ORIG_ENTRY'].to_numpy()[0]\n",
    "                date_moca = df_moca.loc[(df_moca.PATNO == k) & (df_moca['EVENT_ID'] == time_point), 'ORIG_ENTRY'].to_numpy()[0]\n",
    "                if date_gds == date_moca:\n",
    "                    n += 1\n",
    "    d_tp[time_point] = n\n",
    "print(d_tp)"
   ]
  },
  {
   "cell_type": "code",
   "execution_count": null,
   "metadata": {},
   "outputs": [],
   "source": []
  },
  {
   "cell_type": "code",
   "execution_count": null,
   "metadata": {},
   "outputs": [],
   "source": []
  },
  {
   "cell_type": "code",
   "execution_count": null,
   "metadata": {},
   "outputs": [],
   "source": []
  },
  {
   "cell_type": "code",
   "execution_count": 5,
   "metadata": {
    "scrolled": true
   },
   "outputs": [],
   "source": [
    "# df.head()\n",
    "# df.shape\n",
    "# df_depression.shape\n",
    "# df_perf_cog.shape\n",
    "\n",
    "#Visualisation des df\n",
    "\n",
    "#df.head() / df.shape\n",
    "# df_depression.head() / df_depression.shape\n",
    "#df_perf_cog.head() / df_perf_cog.shape"
   ]
  },
  {
   "cell_type": "code",
   "execution_count": null,
   "metadata": {},
   "outputs": [],
   "source": []
  },
  {
   "cell_type": "code",
   "execution_count": 32,
   "metadata": {},
   "outputs": [],
   "source": [
    "n = 0\n",
    "for val in df_perf_cog.PATNO:\n",
    "    if val in df_depression_copy.PATNO:\n",
    "        df_stats.at[n,'PATNO'] = val\n",
    "        df_stats.at[n, 'APPRDX'] = df.loc[df.PATNO == val, 'APPRDX']\n",
    "        df_stats.at[n,'EVENT_ID'] = df_depression_copy.loc[df_depression_copy.PATNO == val, 'EVENT_ID']\n",
    "        df_stats.at[n,'GDSTOT'] = df_depression_copy.loc[df_depression_copy.PATNO == val, 'GDSTOT']\n",
    "        df_stats.at[n,'MCA'] = df_perf_cog.loc[df_perf_cog.PATNO == val, 'MCATOT'] #pas les bonnes valeurs attribuées \n",
    "        #en fonction des différents temps de mesures; devraient être fixées sur l'EVENT_ID + PATNO\n",
    "        n += 1\n",
    "        "
   ]
  },
  {
   "cell_type": "code",
   "execution_count": 32,
   "metadata": {
    "scrolled": true
   },
   "outputs": [],
   "source": [
    "# df_stats.sort_values('PATNO', inplace = True)\n",
    "# df_stats.drop_duplicates(subset = 'PATNO', keep = 'first', inplace = True)\n",
    "# df_stats"
   ]
  },
  {
   "cell_type": "code",
   "execution_count": 33,
   "metadata": {},
   "outputs": [],
   "source": [
    "# ## TABLEAU DE RÉSULTATS POUR L'ANALYSE LONGITUDINALE ##\n",
    "\n",
    "# df_stats_indexed = df_stats.reset_index()\n",
    "# #df_stats_indexed.rename(columns={'index':'Index'})\n",
    "# df_stats_indexed"
   ]
  },
  {
   "cell_type": "code",
   "execution_count": null,
   "metadata": {},
   "outputs": [],
   "source": [
    "df_stats_indexed.loc[0,:]"
   ]
  },
  {
   "cell_type": "code",
   "execution_count": 34,
   "metadata": {
    "scrolled": true
   },
   "outputs": [],
   "source": [
    "# df_stats_transversal = pd.DataFrame(columns=['PATNO','APPRDX','EVENT_ID','GDSTOT','MCA'], index=range(0,4))\n",
    "# df_stats_transversal"
   ]
  },
  {
   "cell_type": "code",
   "execution_count": 67,
   "metadata": {},
   "outputs": [],
   "source": [
    "## TABLEAU DES RÉSULTATS POUR L'ANALYSE TRANSVERSALE ##\n",
    "\n",
    "#PATNO/APPRDX(GROUP)/EVENT_ID/GDSTOT/MCA --> colonnes nécessaires\n",
    "n = 0\n",
    "for val in df_perf_cog.PATNO:\n",
    "    if val in df_depression_copy.PATNO:\n",
    "        df_stats_transversal.at[n,'PATNO'] = val\n",
    "        #df_stats.at[n, 'APPRDX'] = df.loc[df.PATNO == val, 'APPRDX']\n",
    "        df_stats_transversal.at[n, 'EVENT_ID'] = df_depression_copy.loc[df_depression_copy.PATNO == val, 'EVENT_ID']\n",
    "        df_stats_transversal.at[n, 'GDSTOT'] = df_depression_copy.loc[df_depression_copy.PATNO == val, 'GDSTOT']\n",
    "        df_stats_transversal.at[n, 'MCA'] = df_perf_cog.loc[df_perf_cog.PATNO == val, 'MCATOT']\n",
    "        n += 1"
   ]
  },
  {
   "cell_type": "code",
   "execution_count": null,
   "metadata": {},
   "outputs": [],
   "source": [
    "#Je n'arrive pas à séparer les valeurs d'un même objet en plusieurs objets d'une seule valeur. Autrement dit, il faudrait\n",
    "#que j'arrive à diviser les résultats mulitples d'une cellule pour n'avoir qu'un seul résultat par ligne, mais je n'y\n",
    "#arrive pas en me basant et sur le PATNO et sur l'EVENT_ID. De plus, le score du MCA affiché n'est pas le bon en fonction\n",
    "#des temps de mesures enregistrés dans le EVENT_ID. Ainsi, le GDS est bon basé sur le PATNO et le EVENT_ID, alors que le\n",
    "#MCA n'est basé que sur le PATNO et pas sur le EVENT_ID"
   ]
  },
  {
   "cell_type": "code",
   "execution_count": 35,
   "metadata": {
    "scrolled": true
   },
   "outputs": [],
   "source": [
    "# df_stats_transversal"
   ]
  },
  {
   "cell_type": "code",
   "execution_count": 43,
   "metadata": {},
   "outputs": [],
   "source": [
    "n = 0\n",
    "for val in df_perf_cog.PATNO:\n",
    "    if val in df_depression_copy.PATNO:\n",
    "        for j in df_perf_cog.EVENT_ID:\n",
    "            if j in df_depression_copy.EVENT_ID:\n",
    "                df_stats_transversal.at[n,'PATNO'] = val\n",
    "                #df_stats_transversal.at[n, 'APPRDX'] = df.loc[df.PATNO == val, 'APPRDX']\n",
    "                df_stats_transversal.at[n,'EVENT_ID'] = val\n",
    "                df_stats_transversal.at[n,'GDSTOT'] = df_depression_copy.loc[df_depression_copy.PATNO == val, 'GDSTOT']\n",
    "                df_stats_transversal.at[n,'MCA'] = df_perf_cog.loc[df_perf_cog.PATNO == val, 'MCATOT']\n",
    "                n += 1"
   ]
  },
  {
   "cell_type": "code",
   "execution_count": 36,
   "metadata": {},
   "outputs": [],
   "source": [
    "# for i in range(0,len(df_perf_cog)):\n",
    "#     for j in range(0,len(df_depression_copy)):\n",
    "#         if df_perf_cog.PATNO[i] == df_depression_copy.PATNO[j] and df_perf_cog.EVENT_ID[i] == df_depression_copy.EVENT_ID[j]:\n",
    "#             df_depression_copy['MCA'] = df_perf_cog.MCATOT[j]"
   ]
  },
  {
   "cell_type": "code",
   "execution_count": null,
   "metadata": {},
   "outputs": [],
   "source": []
  },
  {
   "cell_type": "code",
   "execution_count": null,
   "metadata": {},
   "outputs": [],
   "source": []
  },
  {
   "cell_type": "code",
   "execution_count": null,
   "metadata": {},
   "outputs": [],
   "source": []
  },
  {
   "cell_type": "code",
   "execution_count": 11,
   "metadata": {},
   "outputs": [],
   "source": [
    "# is this actually calculating the values for the participant for all time points ?\n",
    "# needs to be checked.\n",
    "# maybe do this step only after the time points groups are made\n",
    "\n",
    "#Création d'un nouveau df contenant le score total au GDS par participant\n",
    "import copy\n",
    "df_depression_copy = copy.deepcopy(df_depression)\n",
    "df_depression_copy['GDSTOT'] = df_depression_copy.iloc[:,6:21].sum(axis=1)\n",
    "# df_depression_copy\n",
    "# df_depression_copy.head()\n",
    "\n",
    "df_depression_copy.sort_values('PATNO', inplace = True)"
   ]
  },
  {
   "cell_type": "code",
   "execution_count": 15,
   "metadata": {
    "scrolled": true
   },
   "outputs": [],
   "source": [
    "#same problem as previous\n",
    "\n",
    "#Visualisation des données de la performance cognitive (le score total est déjà inclus)\n",
    "df_perf_cog.sort_values('PATNO', inplace = True)\n"
   ]
  },
  {
   "cell_type": "code",
   "execution_count": 7,
   "metadata": {},
   "outputs": [],
   "source": [
    "# not understood what this code is required for\n",
    "\n",
    "#Pseudo code permettant de vérifier que ça fonctionne bien avant de l'implémenter dans le df complet\n",
    "\n",
    "# a = df_perf_cog.head(3)\n",
    "# a = a.reset_index()\n",
    "# a.rename(columns={'index':'Index'})\n",
    "# a"
   ]
  },
  {
   "cell_type": "code",
   "execution_count": 8,
   "metadata": {},
   "outputs": [],
   "source": [
    "# b = df_depression_copy.head(3)\n",
    "# b = b.reset_index()\n",
    "# b.rename(columns={'index':'Index'})"
   ]
  },
  {
   "cell_type": "code",
   "execution_count": 21,
   "metadata": {},
   "outputs": [],
   "source": [
    "# what if the same PATNO has multiple entries ?\n",
    "\n",
    "#Boucle permettant d'ajouter le score total du MOCA pour le même PATNO\n",
    "ab = []\n",
    "for i in range(0,len(a)):\n",
    "    for j in range(0,len(b)):\n",
    "        if a.PATNO[i] == b.PATNO[j]:\n",
    "            ab.append(b.iloc[[j]].join(a.MCATOT.iloc[[i]]))\n",
    "#ab"
   ]
  },
  {
   "cell_type": "code",
   "execution_count": 23,
   "metadata": {
    "scrolled": true
   },
   "outputs": [],
   "source": [
    "#Essayer de trouver une façon plus efficace de faire le df contenant toutes les informations pertinentes\n",
    "# ab[0].append(ab[4]).append(ab[8])"
   ]
  },
  {
   "cell_type": "code",
   "execution_count": 9,
   "metadata": {},
   "outputs": [],
   "source": [
    "# #Même processus mais avec la df complète\n",
    "\n",
    "# df_depression_copy.reset_index()\n",
    "# df_depression_copy.rename(columns={'index':'Index'})\n",
    "# #df_depression_copy"
   ]
  },
  {
   "cell_type": "code",
   "execution_count": 10,
   "metadata": {},
   "outputs": [],
   "source": [
    "# df_perf_cog.reset_index()\n",
    "# df_perf_cog.rename(columns={'index':'Index'})\n",
    "# #df_perf_cog\n",
    "\n",
    "# len(df_perf_cog)"
   ]
  },
  {
   "cell_type": "code",
   "execution_count": null,
   "metadata": {},
   "outputs": [],
   "source": [
    "# #Boucle permettant d'ajouter le score total du MOCA pour le même PATNO\n",
    "# #Ça prend trop de temps... Y a-t-il une façon pour qu'elle soit plus efficace?\n",
    "\n",
    "# df_final = []\n",
    "# for i in range(0,len(sort_df_depression_copy)):\n",
    "#     for j in range(0,len(sort_df_perf_cog)):\n",
    "#         if sort_df_depression_copy.PATNO[i] == sort_df_perf_cog.PATNO[j]:\n",
    "#             df_final.append(sort_df_depression_copy.iloc[[i]].join(sort_df_perf_cog.MCATOT.iloc[[j]]))\n",
    "# # df_final"
   ]
  },
  {
   "cell_type": "code",
   "execution_count": 11,
   "metadata": {},
   "outputs": [],
   "source": [
    "# print(df_depression_copy.shape, df_perf_cog.shape)"
   ]
  },
  {
   "cell_type": "code",
   "execution_count": 12,
   "metadata": {},
   "outputs": [],
   "source": [
    "# len(df_perf_cog.PATNO)\n",
    "# df_stats = pd.DataFrame(columns=['PATNO','APPRDX','EVENT_ID','GDSTOT','MCA'], index=range(0,4))\n",
    "# df_stats"
   ]
  },
  {
   "cell_type": "code",
   "execution_count": 13,
   "metadata": {},
   "outputs": [],
   "source": [
    "# a = df_depression_copy.loc[df_depression_copy.PATNO == 3400, 'GDSTOT']\n",
    "# a"
   ]
  },
  {
   "cell_type": "code",
   "execution_count": 3,
   "metadata": {},
   "outputs": [],
   "source": [
    "# NOT USED\n",
    "\n",
    "#file_GDS = path_main+'/lab/samuel/ppmi/behavior/ppmi_database_2019_05_22_GDS.xlsx'\n",
    "#file_MCA = path_main+'/lab/samuel/ppmi/behavior/ppmi_database_2019_05_22_MCA.xlsx'\n",
    "#df_depression = pd.read_excel(file_GDS)\n",
    "#df_perf_cog = pd.read_excel(file_MCA)"
   ]
  }
 ],
 "metadata": {
  "kernelspec": {
   "display_name": "Python 3",
   "language": "python",
   "name": "python3"
  },
  "language_info": {
   "codemirror_mode": {
    "name": "ipython",
    "version": 3
   },
   "file_extension": ".py",
   "mimetype": "text/x-python",
   "name": "python",
   "nbconvert_exporter": "python",
   "pygments_lexer": "ipython3",
   "version": "3.7.5"
  }
 },
 "nbformat": 4,
 "nbformat_minor": 2
}
